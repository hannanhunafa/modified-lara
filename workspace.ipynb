{
 "cells": [
  {
   "cell_type": "code",
   "execution_count": 1,
   "id": "8362fc6b",
   "metadata": {},
   "outputs": [],
   "source": [
    "import pandas as pd\n",
    "import numpy as np"
   ]
  },
  {
   "cell_type": "code",
   "execution_count": 2,
   "id": "05aadeb9",
   "metadata": {},
   "outputs": [
    {
     "name": "stdout",
     "output_type": "stream",
     "text": [
      "D:\\DS\\pml\\lara\\modified-lara\\classifier\\dataset\n"
     ]
    }
   ],
   "source": [
    "%cd classifier/dataset"
   ]
  },
  {
   "cell_type": "code",
   "execution_count": 3,
   "id": "039f4c41",
   "metadata": {},
   "outputs": [
    {
     "name": "stdout",
     "output_type": "stream",
     "text": [
      " Volume in drive D is DATA\n",
      " Volume Serial Number is 8E94-FC70\n",
      "\n",
      " Directory of D:\\DS\\pml\\lara\\modified-lara\\classifier\\dataset\n",
      "\n",
      "27/11/2022  20:04    <DIR>          .\n",
      "22/11/2022  09:40    <DIR>          ..\n",
      "08/11/2022  08:17                48 .gitignore\n",
      "10/11/2022  14:39    <DIR>          custom_data\n",
      "10/11/2022  06:26         2.549.241 custom_data.csv\n",
      "05/11/2022  13:09            29.293 dataset.csv\n",
      "05/11/2022  13:09            30.399 dataset-full.csv\n",
      "05/11/2022  13:09    <DIR>          leaf\n",
      "05/11/2022  13:09    <DIR>          symptom\n",
      "               4 File(s)      2.608.981 bytes\n",
      "               5 Dir(s)  91.437.719.552 bytes free\n"
     ]
    }
   ],
   "source": [
    "%ls"
   ]
  },
  {
   "cell_type": "code",
   "execution_count": 8,
   "id": "5e8a9bf1",
   "metadata": {},
   "outputs": [
    {
     "data": {
      "text/plain": [
       "561.6666666666666"
      ]
     },
     "execution_count": 8,
     "metadata": {},
     "output_type": "execute_result"
    }
   ],
   "source": [
    "csv = pd.read_csv('dataset.csv')\n",
    "len(csv)/3"
   ]
  },
  {
   "cell_type": "code",
   "execution_count": 9,
   "id": "381be9d8",
   "metadata": {},
   "outputs": [],
   "source": [
    "source_path='dataset.csv'\n",
    "for i,chunk in enumerate(pd.read_csv(source_path, chunksize=561)):\n",
    "    chunk.to_csv('chunk{}.csv'.format(i), index=False)"
   ]
  },
  {
   "cell_type": "code",
   "execution_count": null,
   "id": "13d9318a",
   "metadata": {},
   "outputs": [],
   "source": []
  }
 ],
 "metadata": {
  "kernelspec": {
   "display_name": "Python 3 (ipykernel)",
   "language": "python",
   "name": "python3"
  },
  "language_info": {
   "codemirror_mode": {
    "name": "ipython",
    "version": 3
   },
   "file_extension": ".py",
   "mimetype": "text/x-python",
   "name": "python",
   "nbconvert_exporter": "python",
   "pygments_lexer": "ipython3",
   "version": "3.9.12"
  }
 },
 "nbformat": 4,
 "nbformat_minor": 5
}
